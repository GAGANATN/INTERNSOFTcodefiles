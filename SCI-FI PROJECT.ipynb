{
 "cells": [
  {
   "cell_type": "code",
   "execution_count": 1,
   "metadata": {},
   "outputs": [],
   "source": [
    "import os\n",
    "import time\n",
    "import subprocess\n",
    "import json"
   ]
  },
  {
   "cell_type": "code",
   "execution_count": 2,
   "metadata": {},
   "outputs": [],
   "source": [
    "import wolframalpha\n",
    "import requests\n",
    "import webbrowser\n",
    "import wikipedia\n",
    "import datetime\n",
    "import speech_recognition as sr\n",
    "import pyttsx3"
   ]
  },
  {
   "cell_type": "code",
   "execution_count": 3,
   "metadata": {},
   "outputs": [
    {
     "name": "stdout",
     "output_type": "stream",
     "text": [
      "LOADING YOUR AI PERSONAL ASSISTANT JARVIS\n"
     ]
    }
   ],
   "source": [
    "print('LOADING YOUR AI PERSONAL ASSISTANT JARVIS')\n",
    "engine=pyttsx3.init('sapi5')\n",
    "voices=engine.getProperty('voices')\n",
    "engine.setProperty('voice','voices[0].id')"
   ]
  },
  {
   "cell_type": "code",
   "execution_count": 4,
   "metadata": {},
   "outputs": [],
   "source": [
    "def speak(text):\n",
    "    engine.say(text)\n",
    "    engine.runAndWait()"
   ]
  },
  {
   "cell_type": "code",
   "execution_count": 5,
   "metadata": {},
   "outputs": [],
   "source": [
    "def WishMe():\n",
    "    hour=datetime.datetime.now().hour\n",
    "    if hour>=0 and hour<12:\n",
    "        speak('hello, good morning ms.Gagana')\n",
    "        print('hello,good morning ms.Gagana')\n",
    "    elif hour>=12 and hour<=18:\n",
    "        speak('hello,good afternoon ms.Gagana')\n",
    "        print('hello,good afternoon ms.Gagana')\n",
    "    else:\n",
    "        speak('its already late better go to bed')\n",
    "        print('its already late better go to bed')\n",
    "\n",
    "        \n",
    "        \n",
    "def takeCommand():\n",
    "    r=sr.Recognizer()\n",
    "    with sr.Microphone() as source:\n",
    "        print(\"I AM LISTENING\")\n",
    "        audio=r.listen(source)\n",
    "    try:\n",
    "        statement=r.recognize_google(audio,language='en-in')\n",
    "        print(f'user said:{statement}\\n')\n",
    "    except Exception as e:\n",
    "        speak('pardon me,please say that again')\n",
    "        return \"none\"\n",
    "    return statement"
   ]
  },
  {
   "cell_type": "code",
   "execution_count": null,
   "metadata": {},
   "outputs": [],
   "source": [
    "speak('LOADING YOUR PERSONAL AI ASSISTANT JARVIS')\n",
    "WishMe()\n",
    "\n",
    "if __name__=='__main__':\n",
    "    while True:\n",
    "        speak(\"How can i help you?\")\n",
    "        statement=takeCommand().lower()\n",
    "        if statement==0:\n",
    "            continue\n",
    "        if \"good bye\" in statement or \"ok bye\" in statement or \"stop\" in statement:\n",
    "                speak(\"Your personal AI assistant JARVIS is shutting down,good bye\")\n",
    "                print(\"Your personal AI assistant JARVIS is shutting down,good bye\")\n",
    "                break\n",
    "            \n",
    "        if 'wikipedia' in statement:\n",
    "            speak('searching wikipedia......')\n",
    "            statement=statement.replace(\"wikipedia\",\"\")\n",
    "            results=wikipedia.summary(statement,sentences=3)\n",
    "            speak(\"According to wikipedia.....\")\n",
    "            print(results)\n",
    "            speak(results)\n",
    "        elif \"open youtube\" in statement:\n",
    "            webbrowser.open_new_tab(\"https://www.youtube.com\")\n",
    "            speak(\"youtube is open for you\")\n",
    "            time.sleep(5)\n",
    "        elif \"open google\" in statement:\n",
    "            webbrowser.open_new_tab('https://www.google.com')\n",
    "            speak(\"google search is open for you\")\n",
    "            time.sleep(5)\n",
    "        elif \"open gmail\" in statement:\n",
    "            webbrowser.open_new_tab('gmail.com')\n",
    "            speak(\"your gmail is open for you\")\n",
    "            time.sleep(5)\n",
    "        elif \"weather\" in statement:\n",
    "            api_key=\"8ef61edcf1c576d65d836254e11ea420\"\n",
    "            base_url=\"https://api.openweathermap.org/data/2.5/weather?\"\n",
    "            speak('whats the city name?')\n",
    "            city_name=takeCommand()\n",
    "            complete_url=base_url+\"appid=\"+api_key+\"&q\"+city_name\n",
    "            response=requests.get(complete_url)\n",
    "            x=response.json()\n",
    "            if x['cod'] !='404':\n",
    "                y=x['main']\n",
    "                current_temperature=y[\"temp\"]\n",
    "                current_humidity=y[\"humidity\"]\n",
    "                z=x['weather']\n",
    "                weather_description=z[0]['description']\n",
    "                speak(\"the temparature in kelvin units is\" + str(current_temperature)+ \"\\n humidity in percentage is\" +str(current_humidity)+\"\\n weather description\"+str(weather_description))\n",
    "                print(\"the temparature in kelvin units is\" +str(current_temperature)+\"\\n humidity in percentage is\"+str(current_humidity)+\"\\n weather description\"+str(weather_description))\n",
    "            \n",
    "            else:\n",
    "                speak(\"city not found\")\n",
    "                print(\"city not found\")\n",
    "                \n",
    "        elif \"time\" in statement:\n",
    "            strTime=datetime.datetime.now().strftime(\"%H:%M:%S\")\n",
    "            speak(f\"the time is{strTime}\")\n",
    "    \n",
    "        elif \"who are you\" in statement or \"what can you do\" in statement:\n",
    "                  speak(\"IAM JARVIS YOUR PERSONAL AI ASSISTANT WHO CAN DO ANY TASK YOU ASK ME TO DO!!!\")\n",
    "        elif \"who made you\" in statement or \"who created you\" in statement or \"who discovered you\" in statement:\n",
    "                  speak(\"I was built by gagana\")\n",
    "                  print(\"I was built by gagana\")\n",
    "        elif \"open stack overflow\" in statement:\n",
    "                  webbrowser.open_new_tab(\"https://stackoverflow.com/login\")\n",
    "                  time.sleep(5)\n",
    "        elif \"news\" in statement:\n",
    "                  news=webbrowser.open_new_tab(\"https://timesofindia.indiatimes.com/home/headlines\")\n",
    "                  speak(\"here are some headlines for you from TOI, happy reading!\")\n",
    "                  time.sleep(5)\n",
    "                  \n",
    "        elif \"search\" in statement:\n",
    "                  statement=statement.replace(\"search\",\" \")\n",
    "                  webbrowser.open_new_tab(\"statement\")\n",
    "                  time.sleep(5)\n",
    "                  \n",
    "        elif \"ask\" in statement:\n",
    "                  speak(\"I can answer to computational and geographical questions too just try me!! whatr do you want to ask\")\n",
    "                  question=takeCommand()\n",
    "                  app_id=\"R2K75H-7ELALHR35X\"\n",
    "                  client=wolframalpha.client(\"R2K75H-7ELALHR35X\")\n",
    "                  res=client.query(question)\n",
    "                  answer=next(res.results).text\n",
    "                  speak(answer) \n",
    "                  print(answer)\n",
    "        elif \"log off\" in statement or \"sign off\" in statement or \"shut dowm\" in statement:\n",
    "                  speak(\"your pc will shut down in 10 seconds make sure you have saved and logged off from all applications\")\n",
    "                  subprocess.call(['shut dowm',\"/1\"])\n",
    "                  time.sleep(3)\n",
    "\n",
    "        \n",
    "            "
   ]
  },
  {
   "cell_type": "code",
   "execution_count": null,
   "metadata": {},
   "outputs": [],
   "source": []
  }
 ],
 "metadata": {
  "kernelspec": {
   "display_name": "Python 3",
   "language": "python",
   "name": "python3"
  },
  "language_info": {
   "codemirror_mode": {
    "name": "ipython",
    "version": 3
   },
   "file_extension": ".py",
   "mimetype": "text/x-python",
   "name": "python",
   "nbconvert_exporter": "python",
   "pygments_lexer": "ipython3",
   "version": "3.8.5"
  }
 },
 "nbformat": 4,
 "nbformat_minor": 4
}
