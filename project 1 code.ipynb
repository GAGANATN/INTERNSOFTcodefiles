# -*- coding: utf-8 -*-
"""
Created on Sat Jun  5 11:14:26 2021

@author: Admin
"""

#importing libraries
import pandas as pd
import matplotlib.pyplot as plt



#reading the data from file
data = pd.read_csv('advertising.csv')
data.head()



#to visualizde data
fig, axs = plt.subplots(1,3,sharey=True)
data.plot(kind='scatter',x='TV',y='Sales',ax=axs[0],figsize=(14,7))
data.plot(kind='scatter',x='Radio',y='Sales',ax=axs[1])
data.plot(kind='scatter',x='Newspaper',y='Sales',ax=axs[2])


#Creating x&y for line regression
feature_cols=['TV']
x=data[feature_cols]
y=data.Sales


#Importing linear regression algo
from sklearn.linear_model import LinearRegression
lr=LinearRegression()
lr.fit(x,y)


print(lr.intercept_)
print(lr.coef_)


result=6.9748214882298925+0.05546477*50
print(result)




#Create a data frame with min and max values of table
x_new=pd.DataFrame({'TV':[data.TV.min(),data.TV.max()]})
x_new.head()


preds=lr.predict(x_new)
preds

data.plot(kind='scatter',x='TV',y='Sales')
plt.plot(x_new,preds,c='red',linewidth=3)



#summary
import statsmodels.formula.api as smf
lm=smf.ols(formula='Sales ~ TV', data= data).fit()
lm.conf_int()



#finding the r squared value
lm.rsquared




#multi linear regression 
feature_cols=['TV','Radio','Newspaper']
x=data[feature_cols]
y=data.Sales

lr=LinearRegression()
lr.fit(x,y)

print(lr.intercept_)
print(lr.coef_)

lm= smf.ols(formula='Sales~ TV+Radio+Newspaper',data=data).fit()
lm.conf_int()
lm.summary()


lm= smf.ols(formula='Sales~TV+Radio',data=data).fit()
lm.conf_int()
lm.summary()